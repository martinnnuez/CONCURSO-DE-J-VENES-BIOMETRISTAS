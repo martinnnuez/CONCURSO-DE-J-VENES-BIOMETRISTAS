{
 "cells": [
  {
   "cell_type": "code",
   "execution_count": 1,
   "metadata": {},
   "outputs": [],
   "source": [
    "# Imports\n",
    "import pandas as pd\n",
    "import numpy as np\n",
    "import matplotlib.pyplot as plt\n",
    "import seaborn as sns"
   ]
  },
  {
   "cell_type": "markdown",
   "metadata": {},
   "source": [
    "    En primer lugar cabe destacar que trabajo con los residuos de un MLGM: \n",
    "    Efecto fijo: Localidad + cultivar + localidad>repeticion\n",
    "    Efecto aleatorio:"
   ]
  },
  {
   "cell_type": "code",
   "execution_count": 10,
   "metadata": {},
   "outputs": [],
   "source": [
    "df = pd.read_excel(\"C:/Users/marti/Desktop/GAB2023/datos/datos_Martin_residuos_interaccion.xlsx\")"
   ]
  },
  {
   "cell_type": "code",
   "execution_count": 8,
   "metadata": {},
   "outputs": [
    {
     "data": {
      "text/plain": [
       "Index(['a_Tocopherol', 'g_Tocopherol', 'd_Tocopherol', 'a_g_d_Tocopherol',\n",
       "       'Palmitic_Acid', 'Palmitoleic_Acid', 'Stearic_Acid', 'Oleic_Acid',\n",
       "       'Linoleic_Acid', 'Linolenic_Acid', 'Arachidic_Acid', 'Ecosenoic_Acid',\n",
       "       'OSI', 'Oil_content', 'Tmx_IF.MF', 'Tmed_IF.MF', 'T_mn_IF.MF',\n",
       "       'pp_IF.MF', 'etp_IF..MF', 'Localidad', 'Cultivar', 'RepeticiÃ³n',\n",
       "       'Repeticion', 'Codigo', 'IV', 'Ambiente', 'Fecha_de_siembra_S',\n",
       "       'inicio_de_floraciÃ³n_IF', 'Madurez_fisiologica_MF', 'Dur_S.IF',\n",
       "       'Dur_S.MF', 'Dur_IF.MF', 'Palmitic_Acid_r', 'Palmitoleic_Acid_r',\n",
       "       'Stearic_Acid_r', 'Oleic_Acid_r', 'Linoleic_Acid_r', 'Linolenic_Acid_r',\n",
       "       'Arachidic_Acid_r', 'Ecosenoic_Acid_r', 'ac_insat', 'ac_sat',\n",
       "       'tot_acinsat_r', 'tot_acsat_r', 'RDUO 0 Linolenic_Acid',\n",
       "       'RE 0 Linolenic_Acid'],\n",
       "      dtype='object')"
      ]
     },
     "execution_count": 8,
     "metadata": {},
     "output_type": "execute_result"
    }
   ],
   "source": [
    "df.columns"
   ]
  },
  {
   "cell_type": "code",
   "execution_count": 9,
   "metadata": {},
   "outputs": [
    {
     "data": {
      "text/html": [
       "<div>\n",
       "<style scoped>\n",
       "    .dataframe tbody tr th:only-of-type {\n",
       "        vertical-align: middle;\n",
       "    }\n",
       "\n",
       "    .dataframe tbody tr th {\n",
       "        vertical-align: top;\n",
       "    }\n",
       "\n",
       "    .dataframe thead th {\n",
       "        text-align: right;\n",
       "    }\n",
       "</style>\n",
       "<table border=\"1\" class=\"dataframe\">\n",
       "  <thead>\n",
       "    <tr style=\"text-align: right;\">\n",
       "      <th></th>\n",
       "      <th>a_Tocopherol</th>\n",
       "      <th>g_Tocopherol</th>\n",
       "      <th>d_Tocopherol</th>\n",
       "      <th>a_g_d_Tocopherol</th>\n",
       "      <th>Palmitic_Acid</th>\n",
       "      <th>Palmitoleic_Acid</th>\n",
       "      <th>Stearic_Acid</th>\n",
       "      <th>Oleic_Acid</th>\n",
       "      <th>Linoleic_Acid</th>\n",
       "      <th>Linolenic_Acid</th>\n",
       "      <th>...</th>\n",
       "      <th>Linoleic_Acid_r</th>\n",
       "      <th>Linolenic_Acid_r</th>\n",
       "      <th>Arachidic_Acid_r</th>\n",
       "      <th>Ecosenoic_Acid_r</th>\n",
       "      <th>ac_insat</th>\n",
       "      <th>ac_sat</th>\n",
       "      <th>tot_acinsat_r</th>\n",
       "      <th>tot_acsat_r</th>\n",
       "      <th>RDUO 0 Linolenic_Acid</th>\n",
       "      <th>RE 0 Linolenic_Acid</th>\n",
       "    </tr>\n",
       "  </thead>\n",
       "  <tbody>\n",
       "    <tr>\n",
       "      <th>0</th>\n",
       "      <td>502.64</td>\n",
       "      <td>826.36</td>\n",
       "      <td>6.18</td>\n",
       "      <td>1335.18</td>\n",
       "      <td>4.26</td>\n",
       "      <td>0.20</td>\n",
       "      <td>2.04</td>\n",
       "      <td>64.49</td>\n",
       "      <td>20.41</td>\n",
       "      <td>7.11</td>\n",
       "      <td>...</td>\n",
       "      <td>9.178377</td>\n",
       "      <td>3.197367</td>\n",
       "      <td>0.197868</td>\n",
       "      <td>0.476682</td>\n",
       "      <td>93.07</td>\n",
       "      <td>6.94</td>\n",
       "      <td>41.853579</td>\n",
       "      <td>3.120918</td>\n",
       "      <td>-0.170192</td>\n",
       "      <td>-0.421027</td>\n",
       "    </tr>\n",
       "    <tr>\n",
       "      <th>1</th>\n",
       "      <td>511.20</td>\n",
       "      <td>788.10</td>\n",
       "      <td>7.36</td>\n",
       "      <td>1306.66</td>\n",
       "      <td>4.24</td>\n",
       "      <td>0.20</td>\n",
       "      <td>1.96</td>\n",
       "      <td>64.51</td>\n",
       "      <td>20.48</td>\n",
       "      <td>7.01</td>\n",
       "      <td>...</td>\n",
       "      <td>9.160704</td>\n",
       "      <td>3.135573</td>\n",
       "      <td>0.228123</td>\n",
       "      <td>0.487557</td>\n",
       "      <td>93.09</td>\n",
       "      <td>6.91</td>\n",
       "      <td>41.639157</td>\n",
       "      <td>3.090843</td>\n",
       "      <td>0.034423</td>\n",
       "      <td>0.085157</td>\n",
       "    </tr>\n",
       "    <tr>\n",
       "      <th>2</th>\n",
       "      <td>317.95</td>\n",
       "      <td>726.27</td>\n",
       "      <td>0.00</td>\n",
       "      <td>1044.22</td>\n",
       "      <td>3.96</td>\n",
       "      <td>0.17</td>\n",
       "      <td>1.89</td>\n",
       "      <td>65.69</td>\n",
       "      <td>18.65</td>\n",
       "      <td>7.92</td>\n",
       "      <td>...</td>\n",
       "      <td>8.661060</td>\n",
       "      <td>3.678048</td>\n",
       "      <td>0.222912</td>\n",
       "      <td>0.617652</td>\n",
       "      <td>93.59</td>\n",
       "      <td>6.50</td>\n",
       "      <td>43.463196</td>\n",
       "      <td>3.018600</td>\n",
       "      <td>-0.155192</td>\n",
       "      <td>-0.383919</td>\n",
       "    </tr>\n",
       "    <tr>\n",
       "      <th>3</th>\n",
       "      <td>356.28</td>\n",
       "      <td>796.46</td>\n",
       "      <td>7.22</td>\n",
       "      <td>1159.96</td>\n",
       "      <td>4.45</td>\n",
       "      <td>0.19</td>\n",
       "      <td>2.21</td>\n",
       "      <td>65.64</td>\n",
       "      <td>18.53</td>\n",
       "      <td>7.51</td>\n",
       "      <td>...</td>\n",
       "      <td>8.631274</td>\n",
       "      <td>3.498158</td>\n",
       "      <td>0.190978</td>\n",
       "      <td>0.493748</td>\n",
       "      <td>92.74</td>\n",
       "      <td>7.26</td>\n",
       "      <td>43.198292</td>\n",
       "      <td>3.381708</td>\n",
       "      <td>-0.260577</td>\n",
       "      <td>-0.644623</td>\n",
       "    </tr>\n",
       "    <tr>\n",
       "      <th>4</th>\n",
       "      <td>405.68</td>\n",
       "      <td>745.75</td>\n",
       "      <td>3.79</td>\n",
       "      <td>1155.22</td>\n",
       "      <td>4.17</td>\n",
       "      <td>0.17</td>\n",
       "      <td>1.95</td>\n",
       "      <td>65.82</td>\n",
       "      <td>19.38</td>\n",
       "      <td>7.04</td>\n",
       "      <td>...</td>\n",
       "      <td>8.730690</td>\n",
       "      <td>3.171520</td>\n",
       "      <td>0.139655</td>\n",
       "      <td>0.518075</td>\n",
       "      <td>93.39</td>\n",
       "      <td>6.60</td>\n",
       "      <td>42.072195</td>\n",
       "      <td>2.973300</td>\n",
       "      <td>-0.322692</td>\n",
       "      <td>-0.798286</td>\n",
       "    </tr>\n",
       "  </tbody>\n",
       "</table>\n",
       "<p>5 rows × 46 columns</p>\n",
       "</div>"
      ],
      "text/plain": [
       "   a_Tocopherol  g_Tocopherol  d_Tocopherol  a_g_d_Tocopherol  Palmitic_Acid  \\\n",
       "0        502.64        826.36          6.18           1335.18           4.26   \n",
       "1        511.20        788.10          7.36           1306.66           4.24   \n",
       "2        317.95        726.27          0.00           1044.22           3.96   \n",
       "3        356.28        796.46          7.22           1159.96           4.45   \n",
       "4        405.68        745.75          3.79           1155.22           4.17   \n",
       "\n",
       "   Palmitoleic_Acid  Stearic_Acid  Oleic_Acid  Linoleic_Acid  Linolenic_Acid  \\\n",
       "0              0.20          2.04       64.49          20.41            7.11   \n",
       "1              0.20          1.96       64.51          20.48            7.01   \n",
       "2              0.17          1.89       65.69          18.65            7.92   \n",
       "3              0.19          2.21       65.64          18.53            7.51   \n",
       "4              0.17          1.95       65.82          19.38            7.04   \n",
       "\n",
       "   ...  Linoleic_Acid_r  Linolenic_Acid_r  Arachidic_Acid_r  Ecosenoic_Acid_r  \\\n",
       "0  ...         9.178377          3.197367          0.197868          0.476682   \n",
       "1  ...         9.160704          3.135573          0.228123          0.487557   \n",
       "2  ...         8.661060          3.678048          0.222912          0.617652   \n",
       "3  ...         8.631274          3.498158          0.190978          0.493748   \n",
       "4  ...         8.730690          3.171520          0.139655          0.518075   \n",
       "\n",
       "   ac_insat  ac_sat  tot_acinsat_r  tot_acsat_r  RDUO 0 Linolenic_Acid  \\\n",
       "0     93.07    6.94      41.853579     3.120918              -0.170192   \n",
       "1     93.09    6.91      41.639157     3.090843               0.034423   \n",
       "2     93.59    6.50      43.463196     3.018600              -0.155192   \n",
       "3     92.74    7.26      43.198292     3.381708              -0.260577   \n",
       "4     93.39    6.60      42.072195     2.973300              -0.322692   \n",
       "\n",
       "  RE 0 Linolenic_Acid  \n",
       "0           -0.421027  \n",
       "1            0.085157  \n",
       "2           -0.383919  \n",
       "3           -0.644623  \n",
       "4           -0.798286  \n",
       "\n",
       "[5 rows x 46 columns]"
      ]
     },
     "execution_count": 9,
     "metadata": {},
     "output_type": "execute_result"
    }
   ],
   "source": [
    "df.head()"
   ]
  },
  {
   "cell_type": "code",
   "execution_count": 3,
   "metadata": {},
   "outputs": [
    {
     "data": {
      "text/html": [
       "<div>\n",
       "<style scoped>\n",
       "    .dataframe tbody tr th:only-of-type {\n",
       "        vertical-align: middle;\n",
       "    }\n",
       "\n",
       "    .dataframe tbody tr th {\n",
       "        vertical-align: top;\n",
       "    }\n",
       "\n",
       "    .dataframe thead th {\n",
       "        text-align: right;\n",
       "    }\n",
       "</style>\n",
       "<table border=\"1\" class=\"dataframe\">\n",
       "  <thead>\n",
       "    <tr style=\"text-align: right;\">\n",
       "      <th></th>\n",
       "      <th>Linolenic_Acid</th>\n",
       "      <th>RDUO 0 Linolenic_Acid</th>\n",
       "      <th>RE 0 Linolenic_Acid</th>\n",
       "      <th>Tmx_IF.MF</th>\n",
       "      <th>Tmed_IF.MF</th>\n",
       "      <th>T_mn_IF.MF</th>\n",
       "      <th>pp_IF.MF</th>\n",
       "      <th>etp_IF..MF</th>\n",
       "    </tr>\n",
       "  </thead>\n",
       "  <tbody>\n",
       "    <tr>\n",
       "      <th>Linolenic_Acid</th>\n",
       "      <td>1.000000</td>\n",
       "      <td>0.451331</td>\n",
       "      <td>0.451331</td>\n",
       "      <td>-0.501003</td>\n",
       "      <td>-0.385963</td>\n",
       "      <td>-0.311024</td>\n",
       "      <td>0.087119</td>\n",
       "      <td>0.002761</td>\n",
       "    </tr>\n",
       "    <tr>\n",
       "      <th>RDUO 0 Linolenic_Acid</th>\n",
       "      <td>0.451331</td>\n",
       "      <td>1.000000</td>\n",
       "      <td>1.000000</td>\n",
       "      <td>-0.029668</td>\n",
       "      <td>-0.013045</td>\n",
       "      <td>-0.011763</td>\n",
       "      <td>0.010934</td>\n",
       "      <td>0.033757</td>\n",
       "    </tr>\n",
       "    <tr>\n",
       "      <th>RE 0 Linolenic_Acid</th>\n",
       "      <td>0.451331</td>\n",
       "      <td>1.000000</td>\n",
       "      <td>1.000000</td>\n",
       "      <td>-0.029668</td>\n",
       "      <td>-0.013045</td>\n",
       "      <td>-0.011763</td>\n",
       "      <td>0.010934</td>\n",
       "      <td>0.033757</td>\n",
       "    </tr>\n",
       "    <tr>\n",
       "      <th>Tmx_IF.MF</th>\n",
       "      <td>-0.501003</td>\n",
       "      <td>-0.029668</td>\n",
       "      <td>-0.029668</td>\n",
       "      <td>1.000000</td>\n",
       "      <td>0.955743</td>\n",
       "      <td>0.928283</td>\n",
       "      <td>0.661417</td>\n",
       "      <td>0.457319</td>\n",
       "    </tr>\n",
       "    <tr>\n",
       "      <th>Tmed_IF.MF</th>\n",
       "      <td>-0.385963</td>\n",
       "      <td>-0.013045</td>\n",
       "      <td>-0.013045</td>\n",
       "      <td>0.955743</td>\n",
       "      <td>1.000000</td>\n",
       "      <td>0.962368</td>\n",
       "      <td>0.779492</td>\n",
       "      <td>0.514262</td>\n",
       "    </tr>\n",
       "    <tr>\n",
       "      <th>T_mn_IF.MF</th>\n",
       "      <td>-0.311024</td>\n",
       "      <td>-0.011763</td>\n",
       "      <td>-0.011763</td>\n",
       "      <td>0.928283</td>\n",
       "      <td>0.962368</td>\n",
       "      <td>1.000000</td>\n",
       "      <td>0.744249</td>\n",
       "      <td>0.450286</td>\n",
       "    </tr>\n",
       "    <tr>\n",
       "      <th>pp_IF.MF</th>\n",
       "      <td>0.087119</td>\n",
       "      <td>0.010934</td>\n",
       "      <td>0.010934</td>\n",
       "      <td>0.661417</td>\n",
       "      <td>0.779492</td>\n",
       "      <td>0.744249</td>\n",
       "      <td>1.000000</td>\n",
       "      <td>0.449021</td>\n",
       "    </tr>\n",
       "    <tr>\n",
       "      <th>etp_IF..MF</th>\n",
       "      <td>0.002761</td>\n",
       "      <td>0.033757</td>\n",
       "      <td>0.033757</td>\n",
       "      <td>0.457319</td>\n",
       "      <td>0.514262</td>\n",
       "      <td>0.450286</td>\n",
       "      <td>0.449021</td>\n",
       "      <td>1.000000</td>\n",
       "    </tr>\n",
       "  </tbody>\n",
       "</table>\n",
       "</div>"
      ],
      "text/plain": [
       "                       Linolenic_Acid  RDUO 0 Linolenic_Acid  \\\n",
       "Linolenic_Acid               1.000000               0.451331   \n",
       "RDUO 0 Linolenic_Acid        0.451331               1.000000   \n",
       "RE 0 Linolenic_Acid          0.451331               1.000000   \n",
       "Tmx_IF.MF                   -0.501003              -0.029668   \n",
       "Tmed_IF.MF                  -0.385963              -0.013045   \n",
       "T_mn_IF.MF                  -0.311024              -0.011763   \n",
       "pp_IF.MF                     0.087119               0.010934   \n",
       "etp_IF..MF                   0.002761               0.033757   \n",
       "\n",
       "                       RE 0 Linolenic_Acid  Tmx_IF.MF  Tmed_IF.MF  T_mn_IF.MF  \\\n",
       "Linolenic_Acid                    0.451331  -0.501003   -0.385963   -0.311024   \n",
       "RDUO 0 Linolenic_Acid             1.000000  -0.029668   -0.013045   -0.011763   \n",
       "RE 0 Linolenic_Acid               1.000000  -0.029668   -0.013045   -0.011763   \n",
       "Tmx_IF.MF                        -0.029668   1.000000    0.955743    0.928283   \n",
       "Tmed_IF.MF                       -0.013045   0.955743    1.000000    0.962368   \n",
       "T_mn_IF.MF                       -0.011763   0.928283    0.962368    1.000000   \n",
       "pp_IF.MF                          0.010934   0.661417    0.779492    0.744249   \n",
       "etp_IF..MF                        0.033757   0.457319    0.514262    0.450286   \n",
       "\n",
       "                       pp_IF.MF  etp_IF..MF  \n",
       "Linolenic_Acid         0.087119    0.002761  \n",
       "RDUO 0 Linolenic_Acid  0.010934    0.033757  \n",
       "RE 0 Linolenic_Acid    0.010934    0.033757  \n",
       "Tmx_IF.MF              0.661417    0.457319  \n",
       "Tmed_IF.MF             0.779492    0.514262  \n",
       "T_mn_IF.MF             0.744249    0.450286  \n",
       "pp_IF.MF               1.000000    0.449021  \n",
       "etp_IF..MF             0.449021    1.000000  "
      ]
     },
     "execution_count": 3,
     "metadata": {},
     "output_type": "execute_result"
    }
   ],
   "source": [
    "corr = df[[\"Linolenic_Acid\",'RDUO 0 Linolenic_Acid', \n",
    "            'RE 0 Linolenic_Acid','Tmx_IF.MF', 'Tmed_IF.MF', 'T_mn_IF.MF',\n",
    "       'pp_IF.MF', 'etp_IF..MF']]\n",
    "\n",
    "corr.corr()"
   ]
  },
  {
   "cell_type": "code",
   "execution_count": 11,
   "metadata": {},
   "outputs": [
    {
     "data": {
      "text/html": [
       "<div>\n",
       "<style scoped>\n",
       "    .dataframe tbody tr th:only-of-type {\n",
       "        vertical-align: middle;\n",
       "    }\n",
       "\n",
       "    .dataframe tbody tr th {\n",
       "        vertical-align: top;\n",
       "    }\n",
       "\n",
       "    .dataframe thead th {\n",
       "        text-align: right;\n",
       "    }\n",
       "</style>\n",
       "<table border=\"1\" class=\"dataframe\">\n",
       "  <thead>\n",
       "    <tr style=\"text-align: right;\">\n",
       "      <th></th>\n",
       "      <th>Linolenic_Acid</th>\n",
       "      <th>RDUO 0 Linolenic_Acid</th>\n",
       "      <th>RE 0 Linolenic_Acid</th>\n",
       "      <th>Tmx_IF.MF</th>\n",
       "      <th>Tmed_IF.MF</th>\n",
       "      <th>T_mn_IF.MF</th>\n",
       "      <th>pp_IF.MF</th>\n",
       "      <th>etp_IF..MF</th>\n",
       "    </tr>\n",
       "  </thead>\n",
       "  <tbody>\n",
       "    <tr>\n",
       "      <th>Linolenic_Acid</th>\n",
       "      <td>1.000000</td>\n",
       "      <td>0.417457</td>\n",
       "      <td>0.417457</td>\n",
       "      <td>-0.339207</td>\n",
       "      <td>-0.252120</td>\n",
       "      <td>-0.264650</td>\n",
       "      <td>0.052973</td>\n",
       "      <td>-0.336498</td>\n",
       "    </tr>\n",
       "    <tr>\n",
       "      <th>RDUO 0 Linolenic_Acid</th>\n",
       "      <td>0.417457</td>\n",
       "      <td>1.000000</td>\n",
       "      <td>1.000000</td>\n",
       "      <td>-0.074050</td>\n",
       "      <td>-0.060455</td>\n",
       "      <td>-0.054886</td>\n",
       "      <td>-0.036015</td>\n",
       "      <td>-0.065074</td>\n",
       "    </tr>\n",
       "    <tr>\n",
       "      <th>RE 0 Linolenic_Acid</th>\n",
       "      <td>0.417457</td>\n",
       "      <td>1.000000</td>\n",
       "      <td>1.000000</td>\n",
       "      <td>-0.074050</td>\n",
       "      <td>-0.060455</td>\n",
       "      <td>-0.054886</td>\n",
       "      <td>-0.036015</td>\n",
       "      <td>-0.065074</td>\n",
       "    </tr>\n",
       "    <tr>\n",
       "      <th>Tmx_IF.MF</th>\n",
       "      <td>-0.339207</td>\n",
       "      <td>-0.074050</td>\n",
       "      <td>-0.074050</td>\n",
       "      <td>1.000000</td>\n",
       "      <td>0.956038</td>\n",
       "      <td>0.964381</td>\n",
       "      <td>0.716676</td>\n",
       "      <td>0.665966</td>\n",
       "    </tr>\n",
       "    <tr>\n",
       "      <th>Tmed_IF.MF</th>\n",
       "      <td>-0.252120</td>\n",
       "      <td>-0.060455</td>\n",
       "      <td>-0.060455</td>\n",
       "      <td>0.956038</td>\n",
       "      <td>1.000000</td>\n",
       "      <td>0.971874</td>\n",
       "      <td>0.816049</td>\n",
       "      <td>0.628668</td>\n",
       "    </tr>\n",
       "    <tr>\n",
       "      <th>T_mn_IF.MF</th>\n",
       "      <td>-0.264650</td>\n",
       "      <td>-0.054886</td>\n",
       "      <td>-0.054886</td>\n",
       "      <td>0.964381</td>\n",
       "      <td>0.971874</td>\n",
       "      <td>1.000000</td>\n",
       "      <td>0.777544</td>\n",
       "      <td>0.609280</td>\n",
       "    </tr>\n",
       "    <tr>\n",
       "      <th>pp_IF.MF</th>\n",
       "      <td>0.052973</td>\n",
       "      <td>-0.036015</td>\n",
       "      <td>-0.036015</td>\n",
       "      <td>0.716676</td>\n",
       "      <td>0.816049</td>\n",
       "      <td>0.777544</td>\n",
       "      <td>1.000000</td>\n",
       "      <td>0.461340</td>\n",
       "    </tr>\n",
       "    <tr>\n",
       "      <th>etp_IF..MF</th>\n",
       "      <td>-0.336498</td>\n",
       "      <td>-0.065074</td>\n",
       "      <td>-0.065074</td>\n",
       "      <td>0.665966</td>\n",
       "      <td>0.628668</td>\n",
       "      <td>0.609280</td>\n",
       "      <td>0.461340</td>\n",
       "      <td>1.000000</td>\n",
       "    </tr>\n",
       "  </tbody>\n",
       "</table>\n",
       "</div>"
      ],
      "text/plain": [
       "                       Linolenic_Acid  RDUO 0 Linolenic_Acid  \\\n",
       "Linolenic_Acid               1.000000               0.417457   \n",
       "RDUO 0 Linolenic_Acid        0.417457               1.000000   \n",
       "RE 0 Linolenic_Acid          0.417457               1.000000   \n",
       "Tmx_IF.MF                   -0.339207              -0.074050   \n",
       "Tmed_IF.MF                  -0.252120              -0.060455   \n",
       "T_mn_IF.MF                  -0.264650              -0.054886   \n",
       "pp_IF.MF                     0.052973              -0.036015   \n",
       "etp_IF..MF                  -0.336498              -0.065074   \n",
       "\n",
       "                       RE 0 Linolenic_Acid  Tmx_IF.MF  Tmed_IF.MF  T_mn_IF.MF  \\\n",
       "Linolenic_Acid                    0.417457  -0.339207   -0.252120   -0.264650   \n",
       "RDUO 0 Linolenic_Acid             1.000000  -0.074050   -0.060455   -0.054886   \n",
       "RE 0 Linolenic_Acid               1.000000  -0.074050   -0.060455   -0.054886   \n",
       "Tmx_IF.MF                        -0.074050   1.000000    0.956038    0.964381   \n",
       "Tmed_IF.MF                       -0.060455   0.956038    1.000000    0.971874   \n",
       "T_mn_IF.MF                       -0.054886   0.964381    0.971874    1.000000   \n",
       "pp_IF.MF                         -0.036015   0.716676    0.816049    0.777544   \n",
       "etp_IF..MF                       -0.065074   0.665966    0.628668    0.609280   \n",
       "\n",
       "                       pp_IF.MF  etp_IF..MF  \n",
       "Linolenic_Acid         0.052973   -0.336498  \n",
       "RDUO 0 Linolenic_Acid -0.036015   -0.065074  \n",
       "RE 0 Linolenic_Acid   -0.036015   -0.065074  \n",
       "Tmx_IF.MF              0.716676    0.665966  \n",
       "Tmed_IF.MF             0.816049    0.628668  \n",
       "T_mn_IF.MF             0.777544    0.609280  \n",
       "pp_IF.MF               1.000000    0.461340  \n",
       "etp_IF..MF             0.461340    1.000000  "
      ]
     },
     "execution_count": 11,
     "metadata": {},
     "output_type": "execute_result"
    }
   ],
   "source": [
    "corr.corr(method=\"spearman\")"
   ]
  },
  {
   "cell_type": "markdown",
   "metadata": {},
   "source": [
    "* La T maxima es la mas correlacionada con linolenic y los residuos."
   ]
  },
  {
   "cell_type": "code",
   "execution_count": 24,
   "metadata": {},
   "outputs": [],
   "source": [
    "# df[\"T_cua\"]=df[\"Tmx_IF.MF\"]**2\n",
    "# df[\"P_cua\"]=df[\"pp_IF.MF\"]**2\n",
    "# ,\"T_cua\",\"P_cua\""
   ]
  },
  {
   "cell_type": "code",
   "execution_count": 45,
   "metadata": {},
   "outputs": [],
   "source": [
    "x = df[['Tmx_IF.MF','pp_IF.MF', 'etp_IF..MF']]\n",
    "\n",
    "y= df['RE 0 Linolenic_Acid']"
   ]
  },
  {
   "cell_type": "code",
   "execution_count": 46,
   "metadata": {},
   "outputs": [],
   "source": [
    "from sklearn.preprocessing import RobustScaler\n",
    "ro_scaler=RobustScaler()\n",
    "x_scal=ro_scaler.fit_transform(x)"
   ]
  },
  {
   "cell_type": "code",
   "execution_count": 47,
   "metadata": {},
   "outputs": [],
   "source": [
    "x_scal_df=pd.DataFrame(data=x_scal,columns=x.columns)  "
   ]
  },
  {
   "cell_type": "code",
   "execution_count": 28,
   "metadata": {},
   "outputs": [],
   "source": [
    "# Comparamos los 3 mejores modelos con cross validation\n",
    "from sklearn.model_selection import cross_validate\n",
    "from sklearn.metrics import make_scorer, r2_score, mean_absolute_error, mean_squared_error\n",
    "from lightgbm import LGBMRegressor\n",
    "from xgboost import XGBRegressor\n",
    "from sklearn.ensemble import RandomForestRegressor\n",
    "from sklearn.linear_model import LinearRegression\n",
    "from sklearn.neighbors import KNeighborsRegressor\n",
    "\n",
    "folds=15\n",
    "\n",
    "scoring = {'r2_score':make_scorer(r2_score),\n",
    "           'rmse':make_scorer(mean_squared_error),\n",
    "           'mae':make_scorer(mean_absolute_error)\n",
    "          }\n",
    "\n",
    "lgbm_model = LGBMRegressor(n_estimators=10,random_state=0)\n",
    "lgbm = cross_validate(lgbm_model, x_scal, y, cv=folds, scoring=scoring)\n",
    "\n",
    "xgb_model = XGBRegressor(n_estimators=10,random_state=0)\n",
    "xgb = cross_validate(xgb_model, x_scal, y, cv=folds, scoring=scoring)\n",
    "\n",
    "rf_model = RandomForestRegressor(n_estimators=10, random_state=0)\n",
    "rf = cross_validate(rf_model, x_scal, y, cv=folds, scoring=scoring)\n",
    "\n",
    "lin_model = LinearRegression()\n",
    "lin = cross_validate(lin_model, x_scal, y, cv=folds, scoring=scoring)\n",
    "\n",
    "knn_model = KNeighborsRegressor()\n",
    "knn = cross_validate(knn_model, x_scal, y, cv=folds, scoring=scoring)\n",
    "\n",
    "models_scores_table = pd.DataFrame({'LGBMRegressor':[lgbm['test_r2_score'].mean(),\n",
    "                                                     lgbm['test_rmse'].mean(),\n",
    "                                                     lgbm['test_mae'].mean()\n",
    "                                                     ],\n",
    "\n",
    "                                    'LinearRegression':[lin['test_r2_score'].mean(),\n",
    "                                                     lin['test_rmse'].mean(),\n",
    "                                                     lin['test_mae'].mean()\n",
    "                                                     ],\n",
    "                                    'KNeighborsRegressor':[knn['test_r2_score'].mean(),\n",
    "                                                     knn['test_rmse'].mean(),\n",
    "                                                     knn['test_mae'].mean()\n",
    "                                                     ],\n",
    "                                    'XGBRegressor':[xgb['test_r2_score'].mean(),\n",
    "                                                     xgb['test_rmse'].mean(),\n",
    "                                                     xgb['test_mae'].mean()\n",
    "                                                     ],\n",
    "                                    'RandomForestRegressor':[rf['test_r2_score'].mean(),\n",
    "                                                     rf['test_rmse'].mean(),\n",
    "                                                     rf['test_mae'].mean()\n",
    "                                                     ]\n",
    "                                    },\n",
    "                                    index=['r2_score',\"mse\",\"mae\"]\n",
    "                                   )\n",
    "\n",
    "# Add 'Best Score' column\n",
    "models_scores_table['Best Score'] = models_scores_table.idxmin(axis=1)"
   ]
  },
  {
   "cell_type": "code",
   "execution_count": 29,
   "metadata": {},
   "outputs": [
    {
     "data": {
      "text/html": [
       "<div>\n",
       "<style scoped>\n",
       "    .dataframe tbody tr th:only-of-type {\n",
       "        vertical-align: middle;\n",
       "    }\n",
       "\n",
       "    .dataframe tbody tr th {\n",
       "        vertical-align: top;\n",
       "    }\n",
       "\n",
       "    .dataframe thead th {\n",
       "        text-align: right;\n",
       "    }\n",
       "</style>\n",
       "<table border=\"1\" class=\"dataframe\">\n",
       "  <thead>\n",
       "    <tr style=\"text-align: right;\">\n",
       "      <th></th>\n",
       "      <th>LGBMRegressor</th>\n",
       "      <th>LinearRegression</th>\n",
       "      <th>KNeighborsRegressor</th>\n",
       "      <th>XGBRegressor</th>\n",
       "      <th>RandomForestRegressor</th>\n",
       "      <th>Best Score</th>\n",
       "    </tr>\n",
       "  </thead>\n",
       "  <tbody>\n",
       "    <tr>\n",
       "      <th>r2_score</th>\n",
       "      <td>-0.379868</td>\n",
       "      <td>-0.561791</td>\n",
       "      <td>-0.865536</td>\n",
       "      <td>-2.321378</td>\n",
       "      <td>-2.242601</td>\n",
       "      <td>XGBRegressor</td>\n",
       "    </tr>\n",
       "    <tr>\n",
       "      <th>mse</th>\n",
       "      <td>0.860861</td>\n",
       "      <td>1.033872</td>\n",
       "      <td>1.010330</td>\n",
       "      <td>2.033721</td>\n",
       "      <td>1.947713</td>\n",
       "      <td>LGBMRegressor</td>\n",
       "    </tr>\n",
       "    <tr>\n",
       "      <th>mae</th>\n",
       "      <td>0.672201</td>\n",
       "      <td>0.726062</td>\n",
       "      <td>0.727650</td>\n",
       "      <td>0.919142</td>\n",
       "      <td>0.927942</td>\n",
       "      <td>LGBMRegressor</td>\n",
       "    </tr>\n",
       "  </tbody>\n",
       "</table>\n",
       "</div>"
      ],
      "text/plain": [
       "          LGBMRegressor  LinearRegression  KNeighborsRegressor  XGBRegressor  \\\n",
       "r2_score      -0.379868         -0.561791            -0.865536     -2.321378   \n",
       "mse            0.860861          1.033872             1.010330      2.033721   \n",
       "mae            0.672201          0.726062             0.727650      0.919142   \n",
       "\n",
       "          RandomForestRegressor     Best Score  \n",
       "r2_score              -2.242601   XGBRegressor  \n",
       "mse                    1.947713  LGBMRegressor  \n",
       "mae                    0.927942  LGBMRegressor  "
      ]
     },
     "execution_count": 29,
     "metadata": {},
     "output_type": "execute_result"
    }
   ],
   "source": [
    "models_scores_table"
   ]
  },
  {
   "cell_type": "markdown",
   "metadata": {},
   "source": [
    "# RF"
   ]
  },
  {
   "cell_type": "code",
   "execution_count": 30,
   "metadata": {},
   "outputs": [],
   "source": [
    "import optuna  # pip install optuna\n",
    "from sklearn.model_selection import LeaveOneOut\n",
    "from sklearn.ensemble import RandomForestRegressor\n",
    "\n",
    "def objective(trial, x, y):\n",
    "    param_grid = {\n",
    "        # \"device_type\": trial.suggest_categorical(\"device_type\", ['gpu']),\n",
    "        \"n_estimators\": trial.suggest_int(\"n_estimators\", 1, 50, step=1),\n",
    "        \"max_depth\": trial.suggest_int(\"max_depth\", 1, 30, step=1)\n",
    "    }\n",
    "    cv = LeaveOneOut()\n",
    "\n",
    "    cv_scores = np.empty(104)\n",
    "    for idx, (train_idx, test_idx) in enumerate(cv.split(x, y)):\n",
    "        x_train, x_test = x.iloc[train_idx], x.iloc[test_idx]\n",
    "        y_train, y_test = y[train_idx], y[test_idx]\n",
    "\n",
    "        model = RandomForestRegressor(n_jobs = -1, random_state=0,**param_grid)\n",
    "        model.fit(\n",
    "            x_train,\n",
    "            y_train\n",
    "        )\n",
    "        preds = model.predict(x_test)\n",
    "        cv_scores[idx] = mean_squared_error(y_test,preds, squared=True)\n",
    "\n",
    "    return np.mean(cv_scores)"
   ]
  },
  {
   "cell_type": "code",
   "execution_count": 31,
   "metadata": {},
   "outputs": [
    {
     "name": "stderr",
     "output_type": "stream",
     "text": [
      "[I 2023-08-10 18:29:30,018] A new study created in memory with name: RF Regressor\n"
     ]
    },
    {
     "name": "stderr",
     "output_type": "stream",
     "text": [
      "[I 2023-08-10 18:29:34,762] Trial 0 finished with value: 1.3531358927797479 and parameters: {'n_estimators': 34, 'max_depth': 25}. Best is trial 0 with value: 1.3531358927797479.\n",
      "[I 2023-08-10 18:29:39,352] Trial 1 finished with value: 1.3628357476153945 and parameters: {'n_estimators': 32, 'max_depth': 29}. Best is trial 0 with value: 1.3531358927797479.\n",
      "[I 2023-08-10 18:29:43,732] Trial 2 finished with value: 1.1399492417647812 and parameters: {'n_estimators': 32, 'max_depth': 3}. Best is trial 2 with value: 1.1399492417647812.\n",
      "[I 2023-08-10 18:29:45,462] Trial 3 finished with value: 1.3813195992802176 and parameters: {'n_estimators': 7, 'max_depth': 30}. Best is trial 2 with value: 1.1399492417647812.\n",
      "[I 2023-08-10 18:29:50,424] Trial 4 finished with value: 1.3493653840704387 and parameters: {'n_estimators': 38, 'max_depth': 25}. Best is trial 2 with value: 1.1399492417647812.\n",
      "[I 2023-08-10 18:29:51,631] Trial 5 finished with value: 1.101553844633591 and parameters: {'n_estimators': 3, 'max_depth': 8}. Best is trial 5 with value: 1.101553844633591.\n",
      "[I 2023-08-10 18:29:57,306] Trial 6 finished with value: 1.3460407041517426 and parameters: {'n_estimators': 45, 'max_depth': 26}. Best is trial 5 with value: 1.101553844633591.\n",
      "[I 2023-08-10 18:30:02,638] Trial 7 finished with value: 1.3637282328783125 and parameters: {'n_estimators': 42, 'max_depth': 19}. Best is trial 5 with value: 1.101553844633591.\n",
      "[I 2023-08-10 18:30:07,535] Trial 8 finished with value: 1.342596554016035 and parameters: {'n_estimators': 38, 'max_depth': 10}. Best is trial 5 with value: 1.101553844633591.\n",
      "[I 2023-08-10 18:30:11,433] Trial 9 finished with value: 1.3717836035944042 and parameters: {'n_estimators': 27, 'max_depth': 9}. Best is trial 5 with value: 1.101553844633591.\n",
      "[I 2023-08-10 18:30:12,507] Trial 10 finished with value: 0.9411691834220038 and parameters: {'n_estimators': 2, 'max_depth': 1}. Best is trial 10 with value: 0.9411691834220038.\n",
      "[I 2023-08-10 18:30:13,361] Trial 11 finished with value: 1.2092777453967818 and parameters: {'n_estimators': 1, 'max_depth': 1}. Best is trial 10 with value: 0.9411691834220038.\n",
      "[I 2023-08-10 18:30:15,791] Trial 12 finished with value: 1.345168975114082 and parameters: {'n_estimators': 13, 'max_depth': 7}. Best is trial 10 with value: 0.9411691834220038.\n",
      "[I 2023-08-10 18:30:18,724] Trial 13 finished with value: 1.3876974706973344 and parameters: {'n_estimators': 18, 'max_depth': 14}. Best is trial 10 with value: 0.9411691834220038.\n",
      "[I 2023-08-10 18:30:20,053] Trial 14 finished with value: 1.096867399171056 and parameters: {'n_estimators': 4, 'max_depth': 5}. Best is trial 10 with value: 0.9411691834220038.\n"
     ]
    }
   ],
   "source": [
    "study = optuna.create_study(direction=\"minimize\", study_name=\"RF Regressor\")\n",
    "func = lambda trial: objective(trial, x_scal_df, y)\n",
    "study.optimize(func, n_trials=15)"
   ]
  },
  {
   "cell_type": "code",
   "execution_count": 32,
   "metadata": {},
   "outputs": [
    {
     "name": "stdout",
     "output_type": "stream",
     "text": [
      "\tBest value (mse): 0.94117\n",
      "\tBest params:\n",
      "\t\tn_estimators: 2\n",
      "\t\tmax_depth: 1\n"
     ]
    }
   ],
   "source": [
    "print(f\"\\tBest value (mse): {study.best_value:.5f}\")\n",
    "print(f\"\\tBest params:\")\n",
    "\n",
    "for key, value in study.best_params.items():\n",
    "    print(f\"\\t\\t{key}: {value}\")"
   ]
  },
  {
   "cell_type": "code",
   "execution_count": 33,
   "metadata": {},
   "outputs": [],
   "source": [
    "# Instanciamos el modelo\n",
    "model = RandomForestRegressor(n_estimators= 2,\n",
    "                      max_depth= 1, random_state=0\n",
    "                      )"
   ]
  },
  {
   "cell_type": "code",
   "execution_count": 34,
   "metadata": {},
   "outputs": [
    {
     "data": {
      "text/plain": [
       "RandomForestRegressor(max_depth=1, n_estimators=2, random_state=0)"
      ]
     },
     "execution_count": 34,
     "metadata": {},
     "output_type": "execute_result"
    }
   ],
   "source": [
    "# Entrenamos el modelo\n",
    "model.fit(x_scal_df, y)"
   ]
  },
  {
   "cell_type": "code",
   "execution_count": 36,
   "metadata": {},
   "outputs": [],
   "source": [
    "# from sklearn.inspection import permutation_importance\n",
    "# import warnings\n",
    "# warnings.filterwarnings(\"ignore\")\n",
    "\n",
    "# # # the permutation based importance\n",
    "# perm_importance = permutation_importance(model, x_scal, y)\n",
    "\n",
    "# sorted_idx = perm_importance.importances_mean.argsort()\n",
    "# plt.barh(x.columns[sorted_idx], perm_importance.importances_mean[sorted_idx])\n",
    "# plt.xlabel(\"Permutation Importance\")\n"
   ]
  },
  {
   "cell_type": "markdown",
   "metadata": {},
   "source": [
    "# LGBM"
   ]
  },
  {
   "cell_type": "code",
   "execution_count": 101,
   "metadata": {},
   "outputs": [],
   "source": [
    "# model = LGBMRegressor(n_estimators=10,random_state=0)\n",
    "\n",
    "# model.fit(x_scal, y)\n",
    "\n",
    "# import matplotlib.pyplot as plt\n",
    "# import seaborn as sns\n",
    "# import warnings\n",
    "# warnings.simplefilter(action='ignore', category=FutureWarning)\n",
    "\n",
    "# # sorted(zip(clf.feature_importances_, X.columns), reverse=True)\n",
    "# feature_imp = pd.DataFrame(sorted(zip(model.feature_importances_,x.columns)), columns=['Value','Feature'])\n",
    "\n",
    "# plt.figure(figsize=(20, 10))\n",
    "# sns.barplot(x=\"Value\", y=\"Feature\", data=feature_imp.sort_values(by=\"Value\", ascending=False))\n",
    "# plt.title('LightGBM Features (avg over folds)')\n",
    "# plt.legend(fontsize=\"20\")\n",
    "# plt.tight_layout()\n",
    "# plt.show()\n"
   ]
  },
  {
   "cell_type": "markdown",
   "metadata": {},
   "source": [
    "# Linear regression"
   ]
  },
  {
   "cell_type": "code",
   "execution_count": 105,
   "metadata": {},
   "outputs": [],
   "source": [
    "# model = LinearRegression()\n",
    "\n",
    "# model.fit(x_scal, y)\n",
    "\n",
    "# coefficients = pd.concat([pd.DataFrame(x.columns),pd.DataFrame(np.transpose(model.coef_))], axis = 1)\n",
    "\n",
    "# coefficients.head()"
   ]
  },
  {
   "cell_type": "markdown",
   "metadata": {},
   "source": [
    "# LGBM hyp"
   ]
  },
  {
   "cell_type": "code",
   "execution_count": 59,
   "metadata": {},
   "outputs": [],
   "source": [
    "import optuna  # pip install optuna\n",
    "from sklearn.model_selection import KFold \n",
    "from sklearn.model_selection import LeaveOneOut\n",
    "from lightgbm import LGBMRegressor\n",
    "\n",
    "def objective(trial, x, y):\n",
    "    param_grid = {\n",
    "        # \"device_type\": trial.suggest_categorical(\"device_type\", ['gpu']),\n",
    "        \"n_estimators\": trial.suggest_int(\"n_estimators\", 10, 50, step=1),\n",
    "        # \"learning_rate\": trial.suggest_float(\"learning_rate\", 0.01, 0.3),\n",
    "        \"num_leaves\": trial.suggest_int(\"num_leaves\", 3, 20, step=1),\n",
    "        \"max_depth\": trial.suggest_int(\"max_depth\", 1, 10, step=1)\n",
    "    }\n",
    "\n",
    "    cv = LeaveOneOut()\n",
    "\n",
    "    cv_scores = np.empty(104)\n",
    "    for idx, (train_idx, test_idx) in enumerate(cv.split(x, y)):\n",
    "        x_train, x_test = x.iloc[train_idx], x.iloc[test_idx]\n",
    "        y_train, y_test = y[train_idx], y[test_idx]\n",
    "\n",
    "        model = LGBMRegressor(n_jobs = -1, random_state=0,**param_grid)\n",
    "        model.fit(\n",
    "            x_train,\n",
    "            y_train,\n",
    "            eval_metric=\"mean_squared_error\"\n",
    "        )\n",
    "        preds = model.predict(x_test)\n",
    "        cv_scores[idx] = mean_squared_error(y_test,preds, squared=True)\n",
    "\n",
    "    return np.mean(cv_scores)"
   ]
  },
  {
   "cell_type": "code",
   "execution_count": 60,
   "metadata": {},
   "outputs": [
    {
     "name": "stderr",
     "output_type": "stream",
     "text": [
      "[I 2023-08-10 18:35:40,112] A new study created in memory with name: LGBM Regressor\n",
      "[I 2023-08-10 18:35:40,731] Trial 0 finished with value: 0.9292082670807589 and parameters: {'n_estimators': 29, 'num_leaves': 8, 'max_depth': 2}. Best is trial 0 with value: 0.9292082670807589.\n",
      "[I 2023-08-10 18:35:41,425] Trial 1 finished with value: 0.9416073975404868 and parameters: {'n_estimators': 38, 'num_leaves': 3, 'max_depth': 10}. Best is trial 0 with value: 0.9292082670807589.\n",
      "[I 2023-08-10 18:35:42,039] Trial 2 finished with value: 0.9237785170128714 and parameters: {'n_estimators': 20, 'num_leaves': 19, 'max_depth': 5}. Best is trial 2 with value: 0.9237785170128714.\n",
      "[I 2023-08-10 18:35:42,643] Trial 3 finished with value: 0.9185921938605838 and parameters: {'n_estimators': 18, 'num_leaves': 18, 'max_depth': 4}. Best is trial 3 with value: 0.9185921938605838.\n",
      "[I 2023-08-10 18:35:43,239] Trial 4 finished with value: 0.9115193870899367 and parameters: {'n_estimators': 15, 'num_leaves': 5, 'max_depth': 8}. Best is trial 4 with value: 0.9115193870899367.\n",
      "[I 2023-08-10 18:35:43,844] Trial 5 finished with value: 0.9133816916047804 and parameters: {'n_estimators': 16, 'num_leaves': 4, 'max_depth': 3}. Best is trial 4 with value: 0.9115193870899367.\n",
      "[I 2023-08-10 18:35:44,501] Trial 6 finished with value: 0.9185921938605838 and parameters: {'n_estimators': 18, 'num_leaves': 11, 'max_depth': 7}. Best is trial 4 with value: 0.9115193870899367.\n",
      "[I 2023-08-10 18:35:45,380] Trial 7 finished with value: 0.9732813901537655 and parameters: {'n_estimators': 49, 'num_leaves': 6, 'max_depth': 10}. Best is trial 4 with value: 0.9115193870899367.\n",
      "[I 2023-08-10 18:35:46,012] Trial 8 finished with value: 0.9185921938605838 and parameters: {'n_estimators': 18, 'num_leaves': 12, 'max_depth': 9}. Best is trial 4 with value: 0.9115193870899367.\n",
      "[I 2023-08-10 18:35:46,655] Trial 9 finished with value: 0.9288912580266854 and parameters: {'n_estimators': 22, 'num_leaves': 8, 'max_depth': 10}. Best is trial 4 with value: 0.9115193870899367.\n",
      "[I 2023-08-10 18:35:47,238] Trial 10 finished with value: 0.8987458909151194 and parameters: {'n_estimators': 10, 'num_leaves': 14, 'max_depth': 7}. Best is trial 10 with value: 0.8987458909151194.\n",
      "[I 2023-08-10 18:35:47,831] Trial 11 finished with value: 0.8987458909151194 and parameters: {'n_estimators': 10, 'num_leaves': 15, 'max_depth': 7}. Best is trial 10 with value: 0.8987458909151194.\n",
      "[I 2023-08-10 18:35:48,467] Trial 12 finished with value: 0.8987458909151194 and parameters: {'n_estimators': 10, 'num_leaves': 15, 'max_depth': 6}. Best is trial 10 with value: 0.8987458909151194.\n",
      "[I 2023-08-10 18:35:49,200] Trial 13 finished with value: 0.936945815537296 and parameters: {'n_estimators': 27, 'num_leaves': 15, 'max_depth': 7}. Best is trial 10 with value: 0.8987458909151194.\n",
      "[I 2023-08-10 18:35:49,789] Trial 14 finished with value: 0.9027361666164135 and parameters: {'n_estimators': 12, 'num_leaves': 15, 'max_depth': 6}. Best is trial 10 with value: 0.8987458909151194.\n",
      "[I 2023-08-10 18:35:50,584] Trial 15 finished with value: 0.9548322399517655 and parameters: {'n_estimators': 36, 'num_leaves': 12, 'max_depth': 8}. Best is trial 10 with value: 0.8987458909151194.\n",
      "[I 2023-08-10 18:35:51,131] Trial 16 finished with value: 0.8635838353970565 and parameters: {'n_estimators': 10, 'num_leaves': 17, 'max_depth': 1}. Best is trial 16 with value: 0.8635838353970565.\n",
      "[I 2023-08-10 18:35:51,829] Trial 17 finished with value: 0.9237150436342217 and parameters: {'n_estimators': 26, 'num_leaves': 17, 'max_depth': 2}. Best is trial 16 with value: 0.8635838353970565.\n",
      "[I 2023-08-10 18:35:52,534] Trial 18 finished with value: 0.8950877248592654 and parameters: {'n_estimators': 35, 'num_leaves': 20, 'max_depth': 1}. Best is trial 16 with value: 0.8635838353970565.\n",
      "[I 2023-08-10 18:35:53,263] Trial 19 finished with value: 0.8959834854601681 and parameters: {'n_estimators': 36, 'num_leaves': 20, 'max_depth': 1}. Best is trial 16 with value: 0.8635838353970565.\n",
      "[I 2023-08-10 18:35:54,004] Trial 20 finished with value: 0.8978984591525905 and parameters: {'n_estimators': 40, 'num_leaves': 17, 'max_depth': 1}. Best is trial 16 with value: 0.8635838353970565.\n",
      "[I 2023-08-10 18:35:54,758] Trial 21 finished with value: 0.8949887870253094 and parameters: {'n_estimators': 34, 'num_leaves': 20, 'max_depth': 1}. Best is trial 16 with value: 0.8635838353970565.\n",
      "[I 2023-08-10 18:35:55,620] Trial 22 finished with value: 0.948042427088622 and parameters: {'n_estimators': 43, 'num_leaves': 20, 'max_depth': 2}. Best is trial 16 with value: 0.8635838353970565.\n",
      "[I 2023-08-10 18:35:56,495] Trial 23 finished with value: 0.9521383426851074 and parameters: {'n_estimators': 34, 'num_leaves': 18, 'max_depth': 3}. Best is trial 16 with value: 0.8635838353970565.\n",
      "[I 2023-08-10 18:35:57,202] Trial 24 finished with value: 0.893718883761582 and parameters: {'n_estimators': 31, 'num_leaves': 20, 'max_depth': 1}. Best is trial 16 with value: 0.8635838353970565.\n",
      "[I 2023-08-10 18:35:57,935] Trial 25 finished with value: 0.9319644031762244 and parameters: {'n_estimators': 24, 'num_leaves': 17, 'max_depth': 3}. Best is trial 16 with value: 0.8635838353970565.\n",
      "[I 2023-08-10 18:35:58,688] Trial 26 finished with value: 0.9421261358308823 and parameters: {'n_estimators': 31, 'num_leaves': 18, 'max_depth': 4}. Best is trial 16 with value: 0.8635838353970565.\n",
      "[I 2023-08-10 18:35:59,406] Trial 27 finished with value: 0.893718883761582 and parameters: {'n_estimators': 31, 'num_leaves': 19, 'max_depth': 1}. Best is trial 16 with value: 0.8635838353970565.\n",
      "[I 2023-08-10 18:36:00,163] Trial 28 finished with value: 0.9306939987857199 and parameters: {'n_estimators': 31, 'num_leaves': 16, 'max_depth': 2}. Best is trial 16 with value: 0.8635838353970565.\n",
      "[I 2023-08-10 18:36:00,913] Trial 29 finished with value: 0.9403755549137306 and parameters: {'n_estimators': 29, 'num_leaves': 10, 'max_depth': 4}. Best is trial 16 with value: 0.8635838353970565.\n",
      "[I 2023-08-10 18:36:01,748] Trial 30 finished with value: 0.9490503354079708 and parameters: {'n_estimators': 44, 'num_leaves': 13, 'max_depth': 2}. Best is trial 16 with value: 0.8635838353970565.\n",
      "[I 2023-08-10 18:36:02,443] Trial 31 finished with value: 0.8936649564769663 and parameters: {'n_estimators': 32, 'num_leaves': 19, 'max_depth': 1}. Best is trial 16 with value: 0.8635838353970565.\n",
      "[I 2023-08-10 18:36:03,128] Trial 32 finished with value: 0.8923411601490432 and parameters: {'n_estimators': 29, 'num_leaves': 19, 'max_depth': 1}. Best is trial 16 with value: 0.8635838353970565.\n",
      "[I 2023-08-10 18:36:03,875] Trial 33 finished with value: 0.936945815537296 and parameters: {'n_estimators': 27, 'num_leaves': 19, 'max_depth': 3}. Best is trial 16 with value: 0.8635838353970565.\n",
      "[I 2023-08-10 18:36:04,565] Trial 34 finished with value: 0.9181906303780756 and parameters: {'n_estimators': 23, 'num_leaves': 18, 'max_depth': 2}. Best is trial 16 with value: 0.8635838353970565.\n",
      "[I 2023-08-10 18:36:05,317] Trial 35 finished with value: 0.8975957964737287 and parameters: {'n_estimators': 39, 'num_leaves': 19, 'max_depth': 1}. Best is trial 16 with value: 0.8635838353970565.\n",
      "[I 2023-08-10 18:36:06,085] Trial 36 finished with value: 0.8989664943564137 and parameters: {'n_estimators': 42, 'num_leaves': 16, 'max_depth': 1}. Best is trial 16 with value: 0.8635838353970565.\n",
      "[I 2023-08-10 18:36:07,012] Trial 37 finished with value: 0.9722693190397648 and parameters: {'n_estimators': 48, 'num_leaves': 19, 'max_depth': 3}. Best is trial 16 with value: 0.8635838353970565.\n",
      "[I 2023-08-10 18:36:07,704] Trial 38 finished with value: 0.9255148988166311 and parameters: {'n_estimators': 21, 'num_leaves': 17, 'max_depth': 5}. Best is trial 16 with value: 0.8635838353970565.\n",
      "[I 2023-08-10 18:36:08,487] Trial 39 finished with value: 0.9403755549137306 and parameters: {'n_estimators': 29, 'num_leaves': 16, 'max_depth': 4}. Best is trial 16 with value: 0.8635838353970565.\n",
      "[I 2023-08-10 18:36:09,104] Trial 40 finished with value: 0.903376255905277 and parameters: {'n_estimators': 14, 'num_leaves': 18, 'max_depth': 2}. Best is trial 16 with value: 0.8635838353970565.\n",
      "[I 2023-08-10 18:36:09,818] Trial 41 finished with value: 0.8936649564769663 and parameters: {'n_estimators': 32, 'num_leaves': 19, 'max_depth': 1}. Best is trial 16 with value: 0.8635838353970565.\n",
      "[I 2023-08-10 18:36:10,529] Trial 42 finished with value: 0.8943236177416181 and parameters: {'n_estimators': 33, 'num_leaves': 20, 'max_depth': 1}. Best is trial 16 with value: 0.8635838353970565.\n",
      "[I 2023-08-10 18:36:11,259] Trial 43 finished with value: 0.9231733083401067 and parameters: {'n_estimators': 25, 'num_leaves': 19, 'max_depth': 2}. Best is trial 16 with value: 0.8635838353970565.\n",
      "[I 2023-08-10 18:36:12,014] Trial 44 finished with value: 0.8977885522756341 and parameters: {'n_estimators': 38, 'num_leaves': 18, 'max_depth': 1}. Best is trial 16 with value: 0.8635838353970565.\n",
      "[I 2023-08-10 18:36:12,736] Trial 45 finished with value: 0.9239187487987082 and parameters: {'n_estimators': 28, 'num_leaves': 3, 'max_depth': 3}. Best is trial 16 with value: 0.8635838353970565.\n",
      "[I 2023-08-10 18:36:13,495] Trial 46 finished with value: 0.9307298817893911 and parameters: {'n_estimators': 32, 'num_leaves': 19, 'max_depth': 2}. Best is trial 16 with value: 0.8635838353970565.\n",
      "[I 2023-08-10 18:36:14,136] Trial 47 finished with value: 0.8825950592039177 and parameters: {'n_estimators': 20, 'num_leaves': 7, 'max_depth': 1}. Best is trial 16 with value: 0.8635838353970565.\n",
      "[I 2023-08-10 18:36:14,802] Trial 48 finished with value: 0.9165124728772382 and parameters: {'n_estimators': 20, 'num_leaves': 8, 'max_depth': 2}. Best is trial 16 with value: 0.8635838353970565.\n",
      "[I 2023-08-10 18:36:15,468] Trial 49 finished with value: 0.9149525067306027 and parameters: {'n_estimators': 17, 'num_leaves': 6, 'max_depth': 9}. Best is trial 16 with value: 0.8635838353970565.\n"
     ]
    }
   ],
   "source": [
    "study = optuna.create_study(direction=\"minimize\", study_name=\"LGBM Regressor\")\n",
    "func = lambda trial: objective(trial, x_scal_df, y)\n",
    "study.optimize(func, n_trials=50)"
   ]
  },
  {
   "cell_type": "code",
   "execution_count": 61,
   "metadata": {},
   "outputs": [
    {
     "name": "stdout",
     "output_type": "stream",
     "text": [
      "\tBest value (mse): 0.86358\n",
      "\tBest params:\n",
      "\t\tn_estimators: 10\n",
      "\t\tnum_leaves: 17\n",
      "\t\tmax_depth: 1\n"
     ]
    }
   ],
   "source": [
    "print(f\"\\tBest value (mse): {study.best_value:.5f}\")\n",
    "print(f\"\\tBest params:\")\n",
    "\n",
    "for key, value in study.best_params.items():\n",
    "    print(f\"\\t\\t{key}: {value}\")"
   ]
  },
  {
   "cell_type": "code",
   "execution_count": 65,
   "metadata": {},
   "outputs": [],
   "source": [
    "# Instanciamos el modelo\n",
    "from lightgbm import LGBMRegressor\n",
    "\n",
    "# Importancia a otras T tambien. \n",
    "# model = LGBMRegressor(n_estimators= 10,\n",
    "#                       num_leaves= 3,\n",
    "#                       max_depth= 27\n",
    "#                       )\n",
    "\n",
    "# No le da imp a las otras T.\n",
    "# model = LGBMRegressor(n_estimators= 11,\n",
    "#                       num_leaves= 15,\n",
    "#                       max_depth= 1\n",
    "#                       )\n",
    "\n",
    "# No, etp importante\n",
    "# model = LGBMRegressor(n_estimators= 10,\n",
    "#                       num_leaves= 14,\n",
    "#                       max_depth= 1\n",
    "#                       )\n",
    "\n",
    "# No le da imp a las otras T.\n",
    "model = LGBMRegressor(n_estimators= 18,\n",
    "                      num_leaves= 15,\n",
    "                      max_depth= 1\n",
    "                      )\n",
    "\n",
    "# cuadraticos no da nada bien, no tiene en cuenta.\n",
    "# model = LGBMRegressor(n_estimators= 10,\n",
    "#                       num_leaves= 17,\n",
    "#                       max_depth= 1\n",
    "#                       )"
   ]
  },
  {
   "cell_type": "code",
   "execution_count": 66,
   "metadata": {},
   "outputs": [
    {
     "data": {
      "text/plain": [
       "LGBMRegressor(max_depth=1, n_estimators=18, num_leaves=15)"
      ]
     },
     "execution_count": 66,
     "metadata": {},
     "output_type": "execute_result"
    }
   ],
   "source": [
    "# Entrenamos el modelo\n",
    "model.fit(x_scal_df, y)"
   ]
  },
  {
   "cell_type": "code",
   "execution_count": 67,
   "metadata": {},
   "outputs": [
    {
     "data": {
      "image/png": "[encoded data removed]",
      "text/plain": [
       "<Figure size 2000x1000 with 1 Axes>"
      ]
     },
     "metadata": {},
     "output_type": "display_data"
    }
   ],
   "source": [
    "# Obtener los valores de importancia de características y los nombres de las características\n",
    "feature_imp = pd.DataFrame(sorted(zip(model.feature_importances_, x.columns), reverse=True), columns=['Value', 'Feature'])\n",
    "\n",
    "# Calcular la suma total de las importancias\n",
    "total_importance = feature_imp['Value'].sum()\n",
    "\n",
    "# Normalizar los valores de importancia dividiendo por la suma total\n",
    "feature_imp['Normalized_Value'] = feature_imp['Value'] / total_importance\n",
    "\n",
    "plt.figure(figsize=(20, 10))\n",
    "sns.barplot(x='Normalized_Value', y='Feature', data=feature_imp.sort_values(by='Normalized_Value', ascending=False))\n",
    "plt.title('Importancia variables climáticas en explicar la interacción localidad*cultivar')\n",
    "plt.ylabel('Variables climáticas')\n",
    "plt.xlabel('Importancia Normalizada')\n",
    "plt.tight_layout()\n",
    "\n",
    "# Agregar más tics en el eje x\n",
    "num_tics = 10  # Puedes ajustar este valor para agregar más o menos tics\n",
    "tics_location = plt.MaxNLocator(num_tics)\n",
    "plt.gca().xaxis.set_major_locator(tics_location)\n",
    "\n",
    "plt.show()"
   ]
  },
  {
   "cell_type": "code",
   "execution_count": null,
   "metadata": {},
   "outputs": [],
   "source": [
    "feature_imp.to_csv()"
   ]
  },
  {
   "cell_type": "code",
   "execution_count": 84,
   "metadata": {},
   "outputs": [],
   "source": [
    "import shap"
   ]
  },
  {
   "cell_type": "code",
   "execution_count": 85,
   "metadata": {},
   "outputs": [],
   "source": [
    "shap_values = shap.TreeExplainer(model).shap_values(x_scal_df)\n",
    "# x = df[['Tmx_IF.MF', 'Tmed_IF.MF', 'T_mn_IF.MF',\n",
    "#        'pp_IF.MF', 'etp_IF..MF']]"
   ]
  },
  {
   "cell_type": "code",
   "execution_count": 87,
   "metadata": {},
   "outputs": [
    {
     "data": {
      "image/png": "[encoded data removed]",
      "text/plain": [
       "<Figure size 750x500 with 2 Axes>"
      ]
     },
     "metadata": {},
     "output_type": "display_data"
    }
   ],
   "source": [
    "shap.dependence_plot('pp_IF.MF', shap_values, x_scal_df)"
   ]
  },
  {
   "cell_type": "code",
   "execution_count": 86,
   "metadata": {},
   "outputs": [
    {
     "data": {
      "image/png": "[encoded data removed]",
      "text/plain": [
       "<Figure size 750x500 with 2 Axes>"
      ]
     },
     "metadata": {},
     "output_type": "display_data"
    }
   ],
   "source": [
    "shap.dependence_plot('Tmx_IF.MF', shap_values, x_scal_df)"
   ]
  },
  {
   "cell_type": "code",
   "execution_count": 88,
   "metadata": {},
   "outputs": [
    {
     "data": {
      "image/png": "[encoded data removed]",
      "text/plain": [
       "<Figure size 750x500 with 2 Axes>"
      ]
     },
     "metadata": {},
     "output_type": "display_data"
    }
   ],
   "source": [
    "shap.dependence_plot('etp_IF..MF', shap_values, x_scal_df)"
   ]
  },
  {
   "cell_type": "markdown",
   "metadata": {},
   "source": [
    "# Pero quien explica mejor el acido linolenico\n",
    "\n",
    "Ajustamos a otra variable respuesta\n"
   ]
  },
  {
   "cell_type": "code",
   "execution_count": 69,
   "metadata": {},
   "outputs": [],
   "source": [
    "x = df[['Tmx_IF.MF',  'pp_IF.MF', 'etp_IF..MF']]\n",
    "\n",
    "# 'Tmed_IF.MF', 'T_mn_IF.MF',\n",
    "\n",
    "y= df['Linolenic_Acid']"
   ]
  },
  {
   "cell_type": "code",
   "execution_count": 70,
   "metadata": {},
   "outputs": [],
   "source": [
    "from sklearn.preprocessing import RobustScaler\n",
    "ro_scaler=RobustScaler()\n",
    "x_scal=ro_scaler.fit_transform(x)"
   ]
  },
  {
   "cell_type": "code",
   "execution_count": 71,
   "metadata": {},
   "outputs": [],
   "source": [
    "x_scal_df=pd.DataFrame(data=x_scal,columns=x.columns)  "
   ]
  },
  {
   "cell_type": "code",
   "execution_count": 73,
   "metadata": {},
   "outputs": [],
   "source": [
    "import optuna  # pip install optuna\n",
    "from sklearn.model_selection import KFold \n",
    "from sklearn.model_selection import LeaveOneOut\n",
    "from lightgbm import LGBMRegressor\n",
    "from sklearn.model_selection import cross_validate\n",
    "from sklearn.metrics import make_scorer, r2_score, mean_absolute_error, mean_squared_error\n",
    "\n",
    "def objective(trial, x, y):\n",
    "    param_grid = {\n",
    "        # \"device_type\": trial.suggest_categorical(\"device_type\", ['gpu']),\n",
    "        \"n_estimators\": trial.suggest_int(\"n_estimators\", 10, 50, step=1),\n",
    "        # \"learning_rate\": trial.suggest_float(\"learning_rate\", 0.01, 0.3),\n",
    "        \"num_leaves\": trial.suggest_int(\"num_leaves\", 3, 20, step=1),\n",
    "        \"max_depth\": trial.suggest_int(\"max_depth\", 1, 30, step=1)\n",
    "    }\n",
    "\n",
    "    cv = LeaveOneOut()\n",
    "\n",
    "    cv_scores = np.empty(104)\n",
    "    for idx, (train_idx, test_idx) in enumerate(cv.split(x, y)):\n",
    "        x_train, x_test = x.iloc[train_idx], x.iloc[test_idx]\n",
    "        y_train, y_test = y[train_idx], y[test_idx]\n",
    "\n",
    "        model = LGBMRegressor(n_jobs = -1, random_state=0,**param_grid)\n",
    "        model.fit(\n",
    "            x_train,\n",
    "            y_train,\n",
    "            eval_metric=\"mean_squared_error\"\n",
    "        )\n",
    "        preds = model.predict(x_test)\n",
    "        cv_scores[idx] = mean_squared_error(y_test,preds, squared=True)\n",
    "\n",
    "    return np.mean(cv_scores)"
   ]
  },
  {
   "cell_type": "code",
   "execution_count": 74,
   "metadata": {},
   "outputs": [
    {
     "name": "stderr",
     "output_type": "stream",
     "text": [
      "[I 2023-08-10 18:38:04,804] A new study created in memory with name: LGBM Regressor\n",
      "[I 2023-08-10 18:38:05,641] Trial 0 finished with value: 0.21107213952898274 and parameters: {'n_estimators': 50, 'num_leaves': 14, 'max_depth': 21}. Best is trial 0 with value: 0.21107213952898274.\n",
      "[I 2023-08-10 18:38:06,357] Trial 1 finished with value: 0.20997049862405837 and parameters: {'n_estimators': 25, 'num_leaves': 4, 'max_depth': 15}. Best is trial 1 with value: 0.20997049862405837.\n",
      "[I 2023-08-10 18:38:07,349] Trial 2 finished with value: 0.2091167714191755 and parameters: {'n_estimators': 27, 'num_leaves': 10, 'max_depth': 19}. Best is trial 2 with value: 0.2091167714191755.\n",
      "[I 2023-08-10 18:38:07,908] Trial 3 finished with value: 0.22930850752146137 and parameters: {'n_estimators': 14, 'num_leaves': 15, 'max_depth': 2}. Best is trial 2 with value: 0.2091167714191755.\n",
      "[I 2023-08-10 18:38:08,585] Trial 4 finished with value: 0.20808890333929245 and parameters: {'n_estimators': 28, 'num_leaves': 11, 'max_depth': 27}. Best is trial 4 with value: 0.20808890333929245.\n",
      "[I 2023-08-10 18:38:09,421] Trial 5 finished with value: 0.21042175316238854 and parameters: {'n_estimators': 46, 'num_leaves': 10, 'max_depth': 27}. Best is trial 4 with value: 0.20808890333929245.\n",
      "[I 2023-08-10 18:38:10,137] Trial 6 finished with value: 0.20791303512255435 and parameters: {'n_estimators': 33, 'num_leaves': 4, 'max_depth': 16}. Best is trial 6 with value: 0.20791303512255435.\n",
      "[I 2023-08-10 18:38:10,740] Trial 7 finished with value: 0.21445085325280108 and parameters: {'n_estimators': 19, 'num_leaves': 19, 'max_depth': 15}. Best is trial 6 with value: 0.20791303512255435.\n",
      "[I 2023-08-10 18:38:11,287] Trial 8 finished with value: 0.22930850752146137 and parameters: {'n_estimators': 14, 'num_leaves': 3, 'max_depth': 14}. Best is trial 6 with value: 0.20791303512255435.\n",
      "[I 2023-08-10 18:38:11,937] Trial 9 finished with value: 0.28260075527550005 and parameters: {'n_estimators': 32, 'num_leaves': 4, 'max_depth': 1}. Best is trial 6 with value: 0.20791303512255435.\n",
      "[I 2023-08-10 18:38:12,741] Trial 10 finished with value: 0.20914909941024765 and parameters: {'n_estimators': 39, 'num_leaves': 7, 'max_depth': 9}. Best is trial 6 with value: 0.20791303512255435.\n",
      "[I 2023-08-10 18:38:13,522] Trial 11 finished with value: 0.20855701690045023 and parameters: {'n_estimators': 36, 'num_leaves': 7, 'max_depth': 30}. Best is trial 6 with value: 0.20791303512255435.\n",
      "[I 2023-08-10 18:38:14,218] Trial 12 finished with value: 0.21159105924177316 and parameters: {'n_estimators': 23, 'num_leaves': 19, 'max_depth': 24}. Best is trial 6 with value: 0.20791303512255435.\n",
      "[I 2023-08-10 18:38:14,958] Trial 13 finished with value: 0.20793405715464053 and parameters: {'n_estimators': 32, 'num_leaves': 14, 'max_depth': 9}. Best is trial 6 with value: 0.20791303512255435.\n",
      "[I 2023-08-10 18:38:15,776] Trial 14 finished with value: 0.20934671023813098 and parameters: {'n_estimators': 41, 'num_leaves': 14, 'max_depth': 9}. Best is trial 6 with value: 0.20791303512255435.\n",
      "[I 2023-08-10 18:38:16,571] Trial 15 finished with value: 0.20855701690045023 and parameters: {'n_estimators': 36, 'num_leaves': 16, 'max_depth': 9}. Best is trial 6 with value: 0.20791303512255435.\n",
      "[I 2023-08-10 18:38:17,356] Trial 16 finished with value: 0.20793405715464053 and parameters: {'n_estimators': 32, 'num_leaves': 8, 'max_depth': 11}. Best is trial 6 with value: 0.20791303512255435.\n",
      "[I 2023-08-10 18:38:18,009] Trial 17 finished with value: 0.21280806160280466 and parameters: {'n_estimators': 20, 'num_leaves': 17, 'max_depth': 5}. Best is trial 6 with value: 0.20791303512255435.\n",
      "[I 2023-08-10 18:38:18,847] Trial 18 finished with value: 0.2100257865547076 and parameters: {'n_estimators': 43, 'num_leaves': 12, 'max_depth': 19}. Best is trial 6 with value: 0.20791303512255435.\n",
      "[I 2023-08-10 18:38:19,613] Trial 19 finished with value: 0.20888142597809692 and parameters: {'n_estimators': 34, 'num_leaves': 13, 'max_depth': 5}. Best is trial 6 with value: 0.20791303512255435.\n",
      "[I 2023-08-10 18:38:20,174] Trial 20 finished with value: 0.2576691579876458 and parameters: {'n_estimators': 10, 'num_leaves': 8, 'max_depth': 12}. Best is trial 6 with value: 0.20791303512255435.\n",
      "[I 2023-08-10 18:38:20,924] Trial 21 finished with value: 0.20696231063281226 and parameters: {'n_estimators': 31, 'num_leaves': 5, 'max_depth': 12}. Best is trial 21 with value: 0.20696231063281226.\n",
      "[I 2023-08-10 18:38:21,656] Trial 22 finished with value: 0.20735072129034565 and parameters: {'n_estimators': 30, 'num_leaves': 6, 'max_depth': 18}. Best is trial 21 with value: 0.20696231063281226.\n",
      "[I 2023-08-10 18:38:22,377] Trial 23 finished with value: 0.20731228421857129 and parameters: {'n_estimators': 29, 'num_leaves': 5, 'max_depth': 18}. Best is trial 21 with value: 0.20696231063281226.\n",
      "[I 2023-08-10 18:38:23,103] Trial 24 finished with value: 0.20808890333929245 and parameters: {'n_estimators': 28, 'num_leaves': 6, 'max_depth': 18}. Best is trial 21 with value: 0.20696231063281226.\n",
      "[I 2023-08-10 18:38:23,820] Trial 25 finished with value: 0.21159105924177316 and parameters: {'n_estimators': 23, 'num_leaves': 5, 'max_depth': 22}. Best is trial 21 with value: 0.20696231063281226.\n",
      "[I 2023-08-10 18:38:24,662] Trial 26 finished with value: 0.2092946745325803 and parameters: {'n_estimators': 38, 'num_leaves': 6, 'max_depth': 17}. Best is trial 21 with value: 0.20696231063281226.\n",
      "[I 2023-08-10 18:38:25,442] Trial 27 finished with value: 0.20735072129034565 and parameters: {'n_estimators': 30, 'num_leaves': 9, 'max_depth': 13}. Best is trial 21 with value: 0.20696231063281226.\n",
      "[I 2023-08-10 18:38:26,164] Trial 28 finished with value: 0.21126852692210718 and parameters: {'n_estimators': 25, 'num_leaves': 3, 'max_depth': 21}. Best is trial 21 with value: 0.20696231063281226.\n",
      "[I 2023-08-10 18:38:27,334] Trial 29 finished with value: 0.2106773643025878 and parameters: {'n_estimators': 48, 'num_leaves': 5, 'max_depth': 21}. Best is trial 21 with value: 0.20696231063281226.\n",
      "[I 2023-08-10 18:38:28,100] Trial 30 finished with value: 0.21280806160280466 and parameters: {'n_estimators': 20, 'num_leaves': 6, 'max_depth': 17}. Best is trial 21 with value: 0.20696231063281226.\n",
      "[I 2023-08-10 18:38:28,846] Trial 31 finished with value: 0.20735072129034565 and parameters: {'n_estimators': 30, 'num_leaves': 9, 'max_depth': 13}. Best is trial 21 with value: 0.20696231063281226.\n",
      "[I 2023-08-10 18:38:29,608] Trial 32 finished with value: 0.20731228421857129 and parameters: {'n_estimators': 29, 'num_leaves': 8, 'max_depth': 11}. Best is trial 21 with value: 0.20696231063281226.\n",
      "[I 2023-08-10 18:38:30,371] Trial 33 finished with value: 0.20947845290691286 and parameters: {'n_estimators': 26, 'num_leaves': 5, 'max_depth': 7}. Best is trial 21 with value: 0.20696231063281226.\n",
      "[I 2023-08-10 18:38:31,165] Trial 34 finished with value: 0.20731228421857129 and parameters: {'n_estimators': 29, 'num_leaves': 8, 'max_depth': 11}. Best is trial 21 with value: 0.20696231063281226.\n",
      "[I 2023-08-10 18:38:32,069] Trial 35 finished with value: 0.21020256235033707 and parameters: {'n_estimators': 24, 'num_leaves': 8, 'max_depth': 11}. Best is trial 21 with value: 0.20696231063281226.\n",
      "[I 2023-08-10 18:38:33,053] Trial 36 finished with value: 0.2091167714191755 and parameters: {'n_estimators': 27, 'num_leaves': 10, 'max_depth': 6}. Best is trial 21 with value: 0.20696231063281226.\n",
      "[I 2023-08-10 18:38:34,157] Trial 37 finished with value: 0.2083101623666591 and parameters: {'n_estimators': 35, 'num_leaves': 7, 'max_depth': 3}. Best is trial 21 with value: 0.20696231063281226.\n",
      "[I 2023-08-10 18:38:34,917] Trial 38 finished with value: 0.20808890333929245 and parameters: {'n_estimators': 28, 'num_leaves': 9, 'max_depth': 15}. Best is trial 21 with value: 0.20696231063281226.\n",
      "[I 2023-08-10 18:38:35,759] Trial 39 finished with value: 0.2092946745325803 and parameters: {'n_estimators': 38, 'num_leaves': 11, 'max_depth': 11}. Best is trial 21 with value: 0.20696231063281226.\n",
      "[I 2023-08-10 18:38:36,491] Trial 40 finished with value: 0.2102920225089679 and parameters: {'n_estimators': 22, 'num_leaves': 4, 'max_depth': 14}. Best is trial 21 with value: 0.20696231063281226.\n",
      "[I 2023-08-10 18:38:37,256] Trial 41 finished with value: 0.20735072129034565 and parameters: {'n_estimators': 30, 'num_leaves': 6, 'max_depth': 19}. Best is trial 21 with value: 0.20696231063281226.\n",
      "[I 2023-08-10 18:38:37,981] Trial 42 finished with value: 0.20809986599769376 and parameters: {'n_estimators': 30, 'num_leaves': 3, 'max_depth': 16}. Best is trial 21 with value: 0.20696231063281226.\n",
      "[I 2023-08-10 18:38:38,747] Trial 43 finished with value: 0.20731228421857129 and parameters: {'n_estimators': 29, 'num_leaves': 5, 'max_depth': 13}. Best is trial 21 with value: 0.20696231063281226.\n",
      "[I 2023-08-10 18:38:39,560] Trial 44 finished with value: 0.20791303512255435 and parameters: {'n_estimators': 33, 'num_leaves': 4, 'max_depth': 7}. Best is trial 21 with value: 0.20696231063281226.\n",
      "[I 2023-08-10 18:38:40,240] Trial 45 finished with value: 0.21664708329944654 and parameters: {'n_estimators': 17, 'num_leaves': 5, 'max_depth': 10}. Best is trial 21 with value: 0.20696231063281226.\n",
      "[I 2023-08-10 18:38:40,988] Trial 46 finished with value: 0.20947845290691286 and parameters: {'n_estimators': 26, 'num_leaves': 7, 'max_depth': 13}. Best is trial 21 with value: 0.20696231063281226.\n",
      "[I 2023-08-10 18:38:41,741] Trial 47 finished with value: 0.20808890333929245 and parameters: {'n_estimators': 28, 'num_leaves': 10, 'max_depth': 14}. Best is trial 21 with value: 0.20696231063281226.\n",
      "[I 2023-08-10 18:38:42,506] Trial 48 finished with value: 0.2083416878405893 and parameters: {'n_estimators': 34, 'num_leaves': 3, 'max_depth': 8}. Best is trial 21 with value: 0.20696231063281226.\n",
      "[I 2023-08-10 18:38:43,279] Trial 49 finished with value: 0.20696231063281226 and parameters: {'n_estimators': 31, 'num_leaves': 7, 'max_depth': 12}. Best is trial 21 with value: 0.20696231063281226.\n"
     ]
    }
   ],
   "source": [
    "study = optuna.create_study(direction=\"minimize\", study_name=\"LGBM Regressor\")\n",
    "func = lambda trial: objective(trial, x_scal_df, y)\n",
    "study.optimize(func, n_trials=50)"
   ]
  },
  {
   "cell_type": "code",
   "execution_count": 75,
   "metadata": {},
   "outputs": [
    {
     "name": "stdout",
     "output_type": "stream",
     "text": [
      "\tBest value (mse): 0.20696\n",
      "\tBest params:\n",
      "\t\tn_estimators: 31\n",
      "\t\tnum_leaves: 5\n",
      "\t\tmax_depth: 12\n"
     ]
    }
   ],
   "source": [
    "print(f\"\\tBest value (mse): {study.best_value:.5f}\")\n",
    "print(f\"\\tBest params:\")\n",
    "\n",
    "for key, value in study.best_params.items():\n",
    "    print(f\"\\t\\t{key}: {value}\")"
   ]
  },
  {
   "cell_type": "code",
   "execution_count": 76,
   "metadata": {},
   "outputs": [],
   "source": [
    "# Instanciamos el modelo\n",
    "from lightgbm import LGBMRegressor\n",
    "\n",
    "# Importancia a otras T tambien. \n",
    "# model = LGBMRegressor(n_estimators= 10,\n",
    "#                       num_leaves= 3,\n",
    "#                       max_depth= 27\n",
    "#                       )\n",
    "\n",
    "# No le da imp a las otras T.\n",
    "# model = LGBMRegressor(n_estimators= 11,\n",
    "#                       num_leaves= 15,\n",
    "#                       max_depth= 1\n",
    "#                       )\n",
    "\n",
    "# No, etp importante\n",
    "# model = LGBMRegressor(n_estimators= 10,\n",
    "#                       num_leaves= 14,\n",
    "#                       max_depth= 1\n",
    "#                       )\n",
    "\n",
    "# No le da imp a las otras T.\n",
    "model = LGBMRegressor(n_estimators= 31,\n",
    "                      num_leaves= 5,\n",
    "                      max_depth= 12\n",
    "                      )"
   ]
  },
  {
   "cell_type": "code",
   "execution_count": 77,
   "metadata": {},
   "outputs": [
    {
     "data": {
      "text/plain": [
       "LGBMRegressor(max_depth=12, n_estimators=31, num_leaves=5)"
      ]
     },
     "execution_count": 77,
     "metadata": {},
     "output_type": "execute_result"
    }
   ],
   "source": [
    "# Entrenamos el modelo\n",
    "model.fit(x_scal_df, y)"
   ]
  },
  {
   "cell_type": "code",
   "execution_count": 78,
   "metadata": {},
   "outputs": [
    {
     "data": {
      "image/png": "[encoded data removed]",
      "text/plain": [
       "<Figure size 2000x1000 with 1 Axes>"
      ]
     },
     "metadata": {},
     "output_type": "display_data"
    }
   ],
   "source": [
    "# Obtener los valores de importancia de características y los nombres de las características\n",
    "feature_imp = pd.DataFrame(sorted(zip(model.feature_importances_, x.columns), reverse=True), columns=['Value', 'Feature'])\n",
    "\n",
    "# Calcular la suma total de las importancias\n",
    "total_importance = feature_imp['Value'].sum()\n",
    "\n",
    "# Normalizar los valores de importancia dividiendo por la suma total\n",
    "feature_imp['Normalized_Value'] = feature_imp['Value'] / total_importance\n",
    "\n",
    "plt.figure(figsize=(20, 10))\n",
    "sns.barplot(x='Normalized_Value', y='Feature', data=feature_imp.sort_values(by='Normalized_Value', ascending=False))\n",
    "plt.title('Importancia variables climáticas en explicar la interacción localidad*cultivar')\n",
    "plt.ylabel('Variables climáticas')\n",
    "plt.xlabel('Importancia Normalizada')\n",
    "plt.tight_layout()\n",
    "\n",
    "# Agregar más tics en el eje x\n",
    "num_tics = 10  # Puedes ajustar este valor para agregar más o menos tics\n",
    "tics_location = plt.MaxNLocator(num_tics)\n",
    "plt.gca().xaxis.set_major_locator(tics_location)\n",
    "\n",
    "plt.show()"
   ]
  }
 ],
 "metadata": {
  "kernelspec": {
   "display_name": "ads2",
   "language": "python",
   "name": "python3"
  },
  "language_info": {
   "codemirror_mode": {
    "name": "ipython",
    "version": 3
   },
   "file_extension": ".py",
   "mimetype": "text/x-python",
   "name": "python",
   "nbconvert_exporter": "python",
   "pygments_lexer": "ipython3",
   "version": "3.10.0"
  },
  "orig_nbformat": 4
 },
 "nbformat": 4,
 "nbformat_minor": 2
}
